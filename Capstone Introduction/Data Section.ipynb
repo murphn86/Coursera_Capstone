{
 "cells": [
  {
   "cell_type": "markdown",
   "metadata": {},
   "source": [
    "Assignment:\n",
    "\n",
    "\n",
    "Describe the data that you will be using to solve the problem or execute your idea. Remember that you will need to use the Foursquare location data to solve the problem or execute your idea. You can absolutely use other datasets in combination with the Foursquare location data. So make sure that you provide adequate explanation and discussion, with examples, of the data that you will be using, even if it is only Foursquare location data."
   ]
  },
  {
   "cell_type": "markdown",
   "metadata": {},
   "source": [
    "Defined Problem:\n",
    "    \n",
    "    \n",
    "    We will be building off of our existing code that analyzed the various neighbourhoods around Toronto, Canada. As such, we will be using Folium, \n",
    "    Foursquare, and     all of the other functions we utilized in the week 3 assignment. We will still be using Foursquare location data to find the \n",
    "    various venues in all of the different neighbourhoods. Through the use of the Geocode function, this code could be applied to any desired city, \n",
    "    not just Toronto like in this example. We would also need to gather some basic data from our investors, such as which city they want to build a \n",
    "    new restaurant (in this example, Toronto), and what type of restaurant they want to start, (a Chinese restaurant in this example). Our resulting \n",
    "    maps will not just be a map of all of the different neighbourhoods. It will filter the results to show areas that already attract customers, but \n",
    "    do not have many of the style our investors want to open."
   ]
  },
  {
   "cell_type": "code",
   "execution_count": null,
   "metadata": {},
   "outputs": [],
   "source": []
  }
 ],
 "metadata": {
  "kernelspec": {
   "display_name": "Python 3",
   "language": "python",
   "name": "python3"
  },
  "language_info": {
   "codemirror_mode": {
    "name": "ipython",
    "version": 3
   },
   "file_extension": ".py",
   "mimetype": "text/x-python",
   "name": "python",
   "nbconvert_exporter": "python",
   "pygments_lexer": "ipython3",
   "version": "3.6.7"
  }
 },
 "nbformat": 4,
 "nbformat_minor": 2
}
