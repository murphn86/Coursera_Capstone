{
    "nbformat_minor": 1, 
    "cells": [
        {
            "source": "Assignment:\n\n\nClearly define a problem or an idea of your choice, where you would need to leverage the Foursquare location data to solve or execute. Remember that data science problems always target an audience and are meant to help a group of stakeholders solve a problem, so make sure that you explicitly describe your audience and why they would care about your problem.", 
            "cell_type": "markdown", 
            "metadata": {
                "collapsed": true
            }
        }, 
        {
            "source": "Defined Problem:\n\n\n    Foreign investors are looking at various cities in the United States to move and open a restaurant. They are wanting to learn more about prospective cities and in which neighborhoods there is a concentration of restaurants. While they want their new restaurant to be near other popular eating destinations, they also don't want to be crowded in with too many of the same style. \n\n    Based on input from our customer as to which city they are considering, and what type of restaurant they want to open, this program will gather data from Foursquare, process the information, and return a map, with suggested neighborhoods in the specified city. These neighborhoods will be selected by seeing where there is a high concentration of restaurants, but a lower amount of restaurants of the particular style of our investors. This will be useful to our stakeholders as they make their choice of where to move once they come to the country, and maximize their investment once their own restaurant is operational.", 
            "cell_type": "markdown", 
            "metadata": {}
        }, 
        {
            "execution_count": null, 
            "cell_type": "code", 
            "metadata": {}, 
            "outputs": [], 
            "source": ""
        }
    ], 
    "metadata": {
        "kernelspec": {
            "display_name": "Python 3.5", 
            "name": "python3", 
            "language": "python"
        }, 
        "language_info": {
            "mimetype": "text/x-python", 
            "nbconvert_exporter": "python", 
            "version": "3.5.5", 
            "name": "python", 
            "file_extension": ".py", 
            "pygments_lexer": "ipython3", 
            "codemirror_mode": {
                "version": 3, 
                "name": "ipython"
            }
        }
    }, 
    "nbformat": 4
}